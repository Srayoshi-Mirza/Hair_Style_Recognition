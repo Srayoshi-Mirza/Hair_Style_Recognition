{
  "nbformat": 4,
  "nbformat_minor": 0,
  "metadata": {
    "colab": {
      "provenance": [],
      "authorship_tag": "ABX9TyO6lh6Pa4yarhHslKs/gi0I",
      "include_colab_link": true
    },
    "kernelspec": {
      "name": "python3",
      "display_name": "Python 3"
    },
    "language_info": {
      "name": "python"
    }
  },
  "cells": [
    {
      "cell_type": "markdown",
      "metadata": {
        "id": "view-in-github",
        "colab_type": "text"
      },
      "source": [
        "<a href=\"https://colab.research.google.com/github/Srayoshi-Mirza/Hair_Style_Recognition/blob/main/Prediction.ipynb\" target=\"_parent\"><img src=\"https://colab.research.google.com/assets/colab-badge.svg\" alt=\"Open In Colab\"/></a>"
      ]
    },
    {
      "cell_type": "code",
      "source": [
        "%reload_ext autoreload\n",
        "%autoreload 2\n",
        "%matplotlib inline\n",
        "bs = 32 #if batch size is bigger than the gpu runs faster"
      ],
      "metadata": {
        "id": "T-urloJURUmW"
      },
      "execution_count": null,
      "outputs": []
    },
    {
      "cell_type": "code",
      "execution_count": null,
      "metadata": {
        "id": "gQWyn6LZKHhc"
      },
      "outputs": [],
      "source": [
        "!pip install -Uqq fastai"
      ]
    },
    {
      "cell_type": "code",
      "source": [
        "from fastai.vision.all import *\n",
        "from fastai.vision.learner import cnn_learner"
      ],
      "metadata": {
        "id": "9J-7agH-KNlm"
      },
      "execution_count": null,
      "outputs": []
    },
    {
      "cell_type": "code",
      "source": [
        "from fastai import *\n",
        "from fastai.vision.all import *\n",
        "from fastai.vision.widgets import *"
      ],
      "metadata": {
        "id": "DllQVyzUR-jj"
      },
      "execution_count": null,
      "outputs": []
    },
    {
      "cell_type": "code",
      "source": [
        "from google.colab import drive\n",
        "drive.mount('/content/drive')"
      ],
      "metadata": {
        "colab": {
          "base_uri": "https://localhost:8080/"
        },
        "id": "Q08uoTKEKO9F",
        "outputId": "7bb5fbcf-70ff-4821-9bac-aef58a13c165"
      },
      "execution_count": null,
      "outputs": [
        {
          "output_type": "stream",
          "name": "stdout",
          "text": [
            "Drive already mounted at /content/drive; to attempt to forcibly remount, call drive.mount(\"/content/drive\", force_remount=True).\n"
          ]
        }
      ]
    },
    {
      "cell_type": "code",
      "source": [
        "%cd /content/drive/My Drive/Hair Styles"
      ],
      "metadata": {
        "colab": {
          "base_uri": "https://localhost:8080/"
        },
        "id": "5bZAEu64KQ-U",
        "outputId": "d9d794df-8e9d-4644-bad2-146570cf2acc"
      },
      "execution_count": null,
      "outputs": [
        {
          "output_type": "stream",
          "name": "stdout",
          "text": [
            "/content/drive/My Drive/Hair Styles\n"
          ]
        }
      ]
    },
    {
      "cell_type": "code",
      "source": [
        "path = '/content/drive/My Drive/Hair Styles/types_of_styles' #path of the data set"
      ],
      "metadata": {
        "id": "JBK0FnTBSBip"
      },
      "execution_count": null,
      "outputs": []
    },
    {
      "cell_type": "code",
      "source": [
        "version = 3\n",
        "img_path = 'images_for_inference'\n",
        "model_path = f'models/hair_style_v{version}.pkl'"
      ],
      "metadata": {
        "id": "FIwEFLE2MbhV"
      },
      "execution_count": null,
      "outputs": []
    },
    {
      "cell_type": "code",
      "source": [
        "model = load_learner(model_path)"
      ],
      "metadata": {
        "id": "0sbolRLtM5j7"
      },
      "execution_count": null,
      "outputs": []
    },
    {
      "cell_type": "code",
      "source": [
        "img = Image.open(f'{img_path}/1.jpg')\n",
        "img.to_thumb(128,128)"
      ],
      "metadata": {
        "colab": {
          "base_uri": "https://localhost:8080/",
          "height": 113
        },
        "id": "93kdIBWnXpQ-",
        "outputId": "ed1cc22f-1111-4ec3-fa9b-b44ef8a55b9a"
      },
      "execution_count": null,
      "outputs": [
        {
          "output_type": "execute_result",
          "data": {
            "text/plain": [
              "<PIL.Image.Image image mode=RGB size=128x96>"
            ],
            "image/png": "[encoded data removed]"
          },
          "metadata": {},
          "execution_count": 42
        }
      ]
    },
    {
      "cell_type": "code",
      "source": [
        "model.predict(f'{img_path}/1.jpg')"
      ],
      "metadata": {
        "colab": {
          "base_uri": "https://localhost:8080/",
          "height": 121
        },
        "id": "rjAsLCwXXrm2",
        "outputId": "0b294321-fc22-4f8d-a229-a41fbb23b836"
      },
      "execution_count": null,
      "outputs": [
        {
          "output_type": "display_data",
          "data": {
            "text/plain": [
              "<IPython.core.display.HTML object>"
            ],
            "text/html": [
              "\n",
              "<style>\n",
              "    /* Turns off some styling */\n",
              "    progress {\n",
              "        /* gets rid of default border in Firefox and Opera. */\n",
              "        border: none;\n",
              "        /* Needs to be in here for Safari polyfill so background images work as expected. */\n",
              "        background-size: auto;\n",
              "    }\n",
              "    progress:not([value]), progress:not([value])::-webkit-progress-bar {\n",
              "        background: repeating-linear-gradient(45deg, #7e7e7e, #7e7e7e 10px, #5c5c5c 10px, #5c5c5c 20px);\n",
              "    }\n",
              "    .progress-bar-interrupted, .progress-bar-interrupted::-webkit-progress-bar {\n",
              "        background: #F44336;\n",
              "    }\n",
              "</style>\n"
            ]
          },
          "metadata": {}
        },
        {
          "output_type": "display_data",
          "data": {
            "text/plain": [
              "<IPython.core.display.HTML object>"
            ],
            "text/html": []
          },
          "metadata": {}
        },
        {
          "output_type": "execute_result",
          "data": {
            "text/plain": [
              "('Plaits hair',\n",
              " tensor(18),\n",
              " tensor([5.6343e-05, 1.4775e-05, 8.8195e-06, 4.1389e-04, 7.2997e-04, 2.3596e-04,\n",
              "         1.3662e-03, 6.9231e-03, 1.6797e-04, 9.3936e-06, 2.4367e-04, 2.5739e-01,\n",
              "         3.0416e-05, 1.2916e-05, 3.2864e-04, 8.6331e-05, 7.7593e-03, 1.1722e-03,\n",
              "         7.0453e-01, 1.7992e-02, 1.7156e-04, 3.5255e-04]))"
            ]
          },
          "metadata": {},
          "execution_count": 43
        }
      ]
    },
    {
      "cell_type": "code",
      "source": [
        "img = Image.open(f'{img_path}/2.jpg')\n",
        "img.to_thumb(128,128)"
      ],
      "metadata": {
        "colab": {
          "base_uri": "https://localhost:8080/",
          "height": 102
        },
        "id": "iUZhbfI2ZfYd",
        "outputId": "b54b273d-c2ac-4de9-c1b8-f0b5d315bd77"
      },
      "execution_count": null,
      "outputs": [
        {
          "output_type": "execute_result",
          "data": {
            "text/plain": [
              "<PIL.Image.Image image mode=RGB size=128x85>"
            ],
            "image/png": "[encoded data removed]"
          },
          "metadata": {},
          "execution_count": 44
        }
      ]
    },
    {
      "cell_type": "code",
      "source": [
        "model.predict(f'{img_path}/2.jpg')"
      ],
      "metadata": {
        "colab": {
          "base_uri": "https://localhost:8080/",
          "height": 121
        },
        "id": "yXKuKPjHZjmd",
        "outputId": "1352b968-1ef6-44ed-e8ab-a73fbc0700a2"
      },
      "execution_count": null,
      "outputs": [
        {
          "output_type": "display_data",
          "data": {
            "text/plain": [
              "<IPython.core.display.HTML object>"
            ],
            "text/html": [
              "\n",
              "<style>\n",
              "    /* Turns off some styling */\n",
              "    progress {\n",
              "        /* gets rid of default border in Firefox and Opera. */\n",
              "        border: none;\n",
              "        /* Needs to be in here for Safari polyfill so background images work as expected. */\n",
              "        background-size: auto;\n",
              "    }\n",
              "    progress:not([value]), progress:not([value])::-webkit-progress-bar {\n",
              "        background: repeating-linear-gradient(45deg, #7e7e7e, #7e7e7e 10px, #5c5c5c 10px, #5c5c5c 20px);\n",
              "    }\n",
              "    .progress-bar-interrupted, .progress-bar-interrupted::-webkit-progress-bar {\n",
              "        background: #F44336;\n",
              "    }\n",
              "</style>\n"
            ]
          },
          "metadata": {}
        },
        {
          "output_type": "display_data",
          "data": {
            "text/plain": [
              "<IPython.core.display.HTML object>"
            ],
            "text/html": []
          },
          "metadata": {}
        },
        {
          "output_type": "execute_result",
          "data": {
            "text/plain": [
              "('Pixie cut',\n",
              " tensor(17),\n",
              " tensor([6.6176e-06, 3.4348e-05, 3.9641e-04, 8.1021e-04, 9.2725e-04, 1.3198e-05,\n",
              "         1.2143e-04, 2.6871e-04, 4.3224e-05, 1.3257e-05, 3.6547e-05, 5.3577e-05,\n",
              "         4.0664e-06, 3.9650e-07, 1.6315e-04, 4.6811e-05, 2.8614e-05, 9.9450e-01,\n",
              "         3.4966e-06, 3.5231e-05, 1.0032e-05, 2.4827e-03]))"
            ]
          },
          "metadata": {},
          "execution_count": 45
        }
      ]
    },
    {
      "cell_type": "code",
      "source": [
        "img = Image.open(f'{img_path}/4.jpg')\n",
        "img.to_thumb(128,128)"
      ],
      "metadata": {
        "id": "C-1MgniMZmXu",
        "outputId": "d9714899-f43f-442c-9dca-fca1271a598a",
        "colab": {
          "base_uri": "https://localhost:8080/",
          "height": 145
        }
      },
      "execution_count": null,
      "outputs": [
        {
          "output_type": "execute_result",
          "data": {
            "text/plain": [
              "<PIL.Image.Image image mode=RGB size=107x128>"
            ],
            "image/png": "[encoded data removed]"
          },
          "metadata": {},
          "execution_count": 47
        }
      ]
    },
    {
      "cell_type": "code",
      "source": [
        "model.predict(f'{img_path}/4.jpg')"
      ],
      "metadata": {
        "id": "of66kNeoZrtc",
        "outputId": "fd2390c7-2f1c-486c-bad8-b0f0e1130701",
        "colab": {
          "base_uri": "https://localhost:8080/",
          "height": 121
        }
      },
      "execution_count": null,
      "outputs": [
        {
          "output_type": "display_data",
          "data": {
            "text/plain": [
              "<IPython.core.display.HTML object>"
            ],
            "text/html": [
              "\n",
              "<style>\n",
              "    /* Turns off some styling */\n",
              "    progress {\n",
              "        /* gets rid of default border in Firefox and Opera. */\n",
              "        border: none;\n",
              "        /* Needs to be in here for Safari polyfill so background images work as expected. */\n",
              "        background-size: auto;\n",
              "    }\n",
              "    progress:not([value]), progress:not([value])::-webkit-progress-bar {\n",
              "        background: repeating-linear-gradient(45deg, #7e7e7e, #7e7e7e 10px, #5c5c5c 10px, #5c5c5c 20px);\n",
              "    }\n",
              "    .progress-bar-interrupted, .progress-bar-interrupted::-webkit-progress-bar {\n",
              "        background: #F44336;\n",
              "    }\n",
              "</style>\n"
            ]
          },
          "metadata": {}
        },
        {
          "output_type": "display_data",
          "data": {
            "text/plain": [
              "<IPython.core.display.HTML object>"
            ],
            "text/html": []
          },
          "metadata": {}
        },
        {
          "output_type": "execute_result",
          "data": {
            "text/plain": [
              "('Pigtail Hair',\n",
              " tensor(16),\n",
              " tensor([1.0194e-04, 2.6545e-03, 7.6692e-04, 2.0328e-05, 1.7175e-04, 6.8332e-05,\n",
              "         5.9989e-05, 9.9368e-04, 1.8495e-03, 1.9441e-04, 1.1644e-03, 1.7775e-03,\n",
              "         1.1575e-01, 1.0210e-02, 1.0427e-04, 2.2382e-03, 8.2635e-01, 2.2710e-05,\n",
              "         3.7177e-03, 1.7892e-03, 2.9906e-02, 9.2538e-05]))"
            ]
          },
          "metadata": {},
          "execution_count": 48
        }
      ]
    }
  ]
}